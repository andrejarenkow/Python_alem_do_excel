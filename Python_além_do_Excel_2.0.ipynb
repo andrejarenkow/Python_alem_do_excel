{
  "nbformat": 4,
  "nbformat_minor": 0,
  "metadata": {
    "colab": {
      "name": "Python_além_do_Excel - 2.0",
      "provenance": [],
      "collapsed_sections": []
    },
    "kernelspec": {
      "display_name": "Python 3",
      "name": "python3"
    },
    "language_info": {
      "name": "python"
    }
  },
  "cells": [
    {
      "cell_type": "markdown",
      "metadata": {
        "id": "DeFNjCCJvtu2"
      },
      "source": [
        "# Introdução ao Google Colaboratory\n",
        "Fazer uma pequena introdução sobre esta plataforma\n",
        "\n",
        "https://colab.research.google.com/notebooks/intro.ipynb\n"
      ]
    },
    {
      "cell_type": "markdown",
      "metadata": {
        "id": "oVY_KSIFxp8D"
      },
      "source": [
        "Referências:\n",
        "* [Qual a diferença entre Inteligência Artificial, Machine Learning, Data Science, Deep Learning, etc?](https://www.youtube.com/watch?v=ccZ2pyr3YDw)\n",
        "* [MELHOR FORMA DE APRENDER PYTHON (Google Colab Notebook)](https://www.youtube.com/watch?v=Gojqw9BQ5qY) \n",
        "* [Data Science: Introdução a Ciência de Dados (Primeira aula prática programando em Python)](https://www.youtube.com/watch?v=F608hzn_ygo)\n",
        "* [Data Visualization: crie os melhores gráficos para os seus dados](https://www.youtube.com/watch?v=qLiEDvs57nk) \n",
        "* [Machine Learning: Tutorial prático usando apenas o navegador (é sensacional!!!)](https://www.youtube.com/watch?v=JyGGMyR3x5I)\n",
        "* [O que é Python? #HipstersPontoTube](https://www.youtube.com/watch?v=-LATVnPcvHI)"
      ]
    },
    {
      "cell_type": "markdown",
      "metadata": {
        "id": "jhpxmUbOv-6R"
      },
      "source": [
        "\n",
        "\n",
        "---\n",
        "\n"
      ]
    },
    {
      "cell_type": "markdown",
      "metadata": {
        "id": "YqHpcCpQk8A1"
      },
      "source": [
        "Vamos tentar analisar os casos de COVID19 disponibilizados pelo Governo do Estado do Rio Grande do Sul, no site https://ti.saude.rs.gov.br/covid19/ \n",
        "\n"
      ]
    },
    {
      "cell_type": "markdown",
      "metadata": {
        "id": "zixr_NE-rVlG"
      },
      "source": [
        "# Importação de bibliotecas\n",
        "Nesta primeira célula, normalmente utilizamos o espaço para importar as bibliotecas que utilizaremos, ou seja, as ferramentas a serem usadas na análise."
      ]
    },
    {
      "cell_type": "code",
      "metadata": {
        "id": "A6EtTICzkDub"
      },
      "source": [
        ""
      ],
      "execution_count": null,
      "outputs": []
    },
    {
      "cell_type": "markdown",
      "metadata": {
        "id": "UKvLjH-QALhG"
      },
      "source": [
        "# Importação do banco de dados\n",
        "o objetivo desta célula é utilizar a biblioteca Pandas para importar um arquivo que está zipado, e transformá-lo em um DataFrame (um tabelão). Também utilizamos o comando \".head()\" para verificar uma pequena amostra do DataFrame."
      ]
    },
    {
      "cell_type": "code",
      "metadata": {
        "id": "oR0qczAHkMZb"
      },
      "source": [
        ""
      ],
      "execution_count": null,
      "outputs": []
    },
    {
      "cell_type": "markdown",
      "metadata": {
        "id": "fOqVDIQy8wIH"
      },
      "source": [
        "Também é possível fazer o upload de um banco de dados, seja em .csv, .xlsx ou .zip"
      ]
    },
    {
      "cell_type": "code",
      "metadata": {
        "id": "ERSOuGC18v4D"
      },
      "source": [
        ""
      ],
      "execution_count": null,
      "outputs": []
    },
    {
      "cell_type": "code",
      "metadata": {
        "id": "LYekN-7Qd8xB"
      },
      "source": [
        ""
      ],
      "execution_count": null,
      "outputs": []
    },
    {
      "cell_type": "markdown",
      "metadata": {
        "id": "xtGzGLtrCMN4"
      },
      "source": [
        "Qual o tamanho da tabela? "
      ]
    },
    {
      "cell_type": "code",
      "metadata": {
        "id": "5KAHMqcElPU3"
      },
      "source": [
        ""
      ],
      "execution_count": null,
      "outputs": []
    },
    {
      "cell_type": "markdown",
      "metadata": {
        "id": "T88exZxgDqbB"
      },
      "source": [
        "Seria possível abrir uma planilha deste tamanho no Excel, com **1.271.486 linhas e 30 colunas**, e não fazer o computador sofrer? "
      ]
    },
    {
      "cell_type": "markdown",
      "metadata": {
        "id": "OVCWmfqYJDF6"
      },
      "source": [
        "Assim como uma tabela no Excel é formada por várias colunas, uma ao lado da outra, o mesmo acontece em Python, porém, chamamos as colunas de Series e a tabela de DataFrame."
      ]
    },
    {
      "cell_type": "markdown",
      "metadata": {
        "id": "fzV9vxPRJkXV"
      },
      "source": [
        "Para representar uma coluna de um DataFrame, digitamos o nome do dataframe seguido do nome da coluna entre áspas simples e colchetes, como no exemplo abaixo. Vamos chamar, por exemplo, a coluna MUNICIPIO:"
      ]
    },
    {
      "cell_type": "code",
      "metadata": {
        "id": "AZh4XL6JJ4ke"
      },
      "source": [
        ""
      ],
      "execution_count": null,
      "outputs": []
    },
    {
      "cell_type": "markdown",
      "metadata": {
        "id": "3orJsMZqFLuT"
      },
      "source": [
        "# Análise dos dados\n",
        "Daqui para frente, vamos analisar a base de dados somente no Python"
      ]
    },
    {
      "cell_type": "markdown",
      "metadata": {
        "id": "dVsGgQJOKrCD"
      },
      "source": [
        "## Contagem de valores\n",
        "Quantos casos de COVID19 temos em cada município? Para verificar, vamos chamar a coluna **MUNICIPIO** e usar a função *value_counts()*"
      ]
    },
    {
      "cell_type": "code",
      "metadata": {
        "id": "ZdhHgjzUDUkF"
      },
      "source": [
        ""
      ],
      "execution_count": null,
      "outputs": []
    },
    {
      "cell_type": "markdown",
      "metadata": {
        "id": "tAmRD-GYLFEc"
      },
      "source": [
        "Verifica-se que é retornada uma tabela, porém, são cortados alguns valores. Isso é padrão do Google Colab, mas podemos contornar, caso queiramos."
      ]
    },
    {
      "cell_type": "markdown",
      "metadata": {
        "id": "88eZ83EvzOVt"
      },
      "source": [
        "## Valores únicos\n",
        "Como saber os valores únicos de cada coluna? Por exemplo: quais critérios de análise para COVID19 são possíveis?"
      ]
    },
    {
      "cell_type": "code",
      "metadata": {
        "id": "UL9_57EyzVJD"
      },
      "source": [
        ""
      ],
      "execution_count": null,
      "outputs": []
    },
    {
      "cell_type": "markdown",
      "metadata": {
        "id": "4nz5GYJaznIm"
      },
      "source": [
        "## Filtro\n",
        "Como eu posso gerar uma tabela (DataFrame) somente com os casos em Porto Alegre? Para isso, fazemos um filtro na coluna, assim como no Excel."
      ]
    },
    {
      "cell_type": "code",
      "metadata": {
        "id": "2acJNjWMK7Of"
      },
      "source": [
        ""
      ],
      "execution_count": null,
      "outputs": []
    },
    {
      "cell_type": "markdown",
      "metadata": {
        "id": "TIiLeOt8scSa"
      },
      "source": [
        "E se quisermos fazer um DataFrame com mais de um parâmetro de filtro? Duas maneiras de fazer:\n",
        "* 1 Fazer um filtro seguido do outro - desvantagem é que não podemos utilizar parâmetros dentro da mesma coluna, como por exemplo selecionar mais de um município. "
      ]
    },
    {
      "cell_type": "code",
      "metadata": {
        "id": "T6eTMFckstD1"
      },
      "source": [
        ""
      ],
      "execution_count": null,
      "outputs": []
    },
    {
      "cell_type": "markdown",
      "metadata": {
        "id": "hZ9mrVBC1C2X"
      },
      "source": [
        "* 2 - Filtros composto: é o melhor jeito de fazer, podendo colocar filtros com E (&) / OU ( | )"
      ]
    },
    {
      "cell_type": "code",
      "metadata": {
        "id": "Ia7b-vzN1AJX"
      },
      "source": [
        ""
      ],
      "execution_count": null,
      "outputs": []
    },
    {
      "cell_type": "markdown",
      "metadata": {
        "id": "vPb4vXLL47Nv"
      },
      "source": [
        "## Tabela dinâmica\n",
        "Se quisermos fazer uma tabela dinâmica, contendo o **número de casos por faixa etária**, com as diferentes evoluções, utilizamos a função **CROSSTAB** do Pandas, onde apenas devemos colocar as colunas que queremos como índice e como coluna. [Referência1](https://pbpython.com/pandas-crosstab.html), [Referência2](https://pandas.pydata.org/docs/reference/api/pandas.crosstab.html)"
      ]
    },
    {
      "cell_type": "code",
      "metadata": {
        "id": "hTu2tb5Vrmvk"
      },
      "source": [
        ""
      ],
      "execution_count": null,
      "outputs": []
    },
    {
      "cell_type": "code",
      "metadata": {
        "id": "lCSrnwAb06b9"
      },
      "source": [
        ""
      ],
      "execution_count": null,
      "outputs": []
    },
    {
      "cell_type": "markdown",
      "metadata": {
        "id": "NyHtht7cAK7b"
      },
      "source": [
        "E fazendo em **porcentagem** de linhas?"
      ]
    },
    {
      "cell_type": "code",
      "metadata": {
        "id": "5g5-JWB35gvK"
      },
      "source": [
        ""
      ],
      "execution_count": null,
      "outputs": []
    },
    {
      "cell_type": "code",
      "metadata": {
        "id": "qiaBbdhcAtYs"
      },
      "source": [
        ""
      ],
      "execution_count": null,
      "outputs": []
    },
    {
      "cell_type": "markdown",
      "metadata": {
        "id": "1XaFzfJrF9_f"
      },
      "source": [
        "## Tipos de dados\n",
        "Assim como no Excel, o Python tem muitas classificações para tipos de dados. Um dado que está no formato de número (float, int, etc) pode ser somado, subtraído, dividido, etc, no entanto, se for um formato de texto (string, object, etc) ocorrerá um erro. Na célula abaixo, vamos ver quais tipos de dados estão presentes no nosso DataFrame.\n",
        "[Referência](https://www.w3schools.com/python/python_datatypes.asp)"
      ]
    },
    {
      "cell_type": "code",
      "metadata": {
        "id": "RBtUmCjeDnUK"
      },
      "source": [
        ""
      ],
      "execution_count": null,
      "outputs": []
    },
    {
      "cell_type": "markdown",
      "metadata": {
        "id": "breK3LlpEu6n"
      },
      "source": [
        "Vamos deixar os dados nas colunas **DATAS** como um formato de data, utilizando a função do pandas **to_datetime**, e botando como parâmetro *dayfirst=True*"
      ]
    },
    {
      "cell_type": "code",
      "metadata": {
        "id": "pLQjhb80Euj3"
      },
      "source": [
        ""
      ],
      "execution_count": null,
      "outputs": []
    },
    {
      "cell_type": "code",
      "metadata": {
        "id": "pofrSmwknzPC"
      },
      "source": [
        ""
      ],
      "execution_count": null,
      "outputs": []
    },
    {
      "cell_type": "markdown",
      "metadata": {
        "id": "rWTAanJ3Hvhr"
      },
      "source": [
        "## Funções de laço - FOR\n",
        "Vamos tentar fazer a mesma função de antes, mas agora utilizando uma das vantagens do Python. Na célula anterior, fizemos a mesma operação, mas para diferentes itens. O que queremos fazer, deixando de maneira explícita o algoritmo, é: **para cada um destes itens da lista, faça esta operação.** Em outras palavras, utilizar o FOR deixa as operações mais automatizadas."
      ]
    },
    {
      "cell_type": "markdown",
      "metadata": {
        "id": "kFgPIB2_LdMj"
      },
      "source": [
        "Primeiro passo: criar uma lista com os itens que queremos ir alterando nas operações, nesse caso, é o nome das colunas.\n"
      ]
    },
    {
      "cell_type": "code",
      "metadata": {
        "id": "saVX69poIOSU"
      },
      "source": [
        ""
      ],
      "execution_count": null,
      "outputs": []
    },
    {
      "cell_type": "markdown",
      "metadata": {
        "id": "PCgK7C70L2_X"
      },
      "source": [
        "Segundo passo: escrever as operações que queremos realizar."
      ]
    },
    {
      "cell_type": "code",
      "metadata": {
        "id": "_ZdeUoLSMU08"
      },
      "source": [
        ""
      ],
      "execution_count": null,
      "outputs": []
    },
    {
      "cell_type": "markdown",
      "metadata": {
        "id": "5kHkhMPFMblz"
      },
      "source": [
        "Terceiro passo: juntar os dois passos anteriores e estruturar o laço (for). Eu gosto de utilizar o valor que vai mudar como \"i\", mas ele pode ser chamado por qualquer nome."
      ]
    },
    {
      "cell_type": "code",
      "metadata": {
        "id": "QLBGw5SSN1pq"
      },
      "source": [
        ""
      ],
      "execution_count": null,
      "outputs": []
    },
    {
      "cell_type": "markdown",
      "metadata": {
        "id": "ij_QFfWTjJr8"
      },
      "source": [
        "## Operação entre colunas\n",
        "Digamos que queremos saber qual o tempo médio que uma pessoa fica doente antes de ir a óbito, qual seria a maneira de realizar esta operação?"
      ]
    },
    {
      "cell_type": "markdown",
      "metadata": {
        "id": "7pTGutJJjYIj"
      },
      "source": [
        "Vamos gerar um DataFrame apenas com as informações que queremos, aplicando um filtro para casos que evoluíram para óbito."
      ]
    },
    {
      "cell_type": "markdown",
      "metadata": {
        "id": "qazBA9okriw0"
      },
      "source": [
        "### Observação\n",
        "Vamos realizar uma operação chamada **reset_index()**, que nada mais é do que refazer a contagem do índice, que nos previne de mensagens chatas de erro. Utilizaremos o parâmetro *drop*(que descarta o índice original) como *True*."
      ]
    },
    {
      "cell_type": "code",
      "metadata": {
        "id": "AboDXhRBjXjG"
      },
      "source": [
        ""
      ],
      "execution_count": null,
      "outputs": []
    },
    {
      "cell_type": "markdown",
      "metadata": {
        "id": "0M0uedIrkmNQ"
      },
      "source": [
        "Agora criamos uma nova coluna, onde vamos atribuir a esta coluna o valor da diferença entre as colunas **'DATA_SINTOMAS'** e **'DATA_EVOLUCAO'**"
      ]
    },
    {
      "cell_type": "code",
      "metadata": {
        "id": "hgGlA67Lkje3"
      },
      "source": [
        ""
      ],
      "execution_count": null,
      "outputs": []
    },
    {
      "cell_type": "markdown",
      "metadata": {
        "id": "uJtPIR_VlWSX"
      },
      "source": [
        "Para descobrir o valor médio, agora simplesmente chamamos a função de média,  - **mean()** - na coluna"
      ]
    },
    {
      "cell_type": "code",
      "metadata": {
        "id": "P3aZwRNDlEjj"
      },
      "source": [
        ""
      ],
      "execution_count": null,
      "outputs": []
    },
    {
      "cell_type": "markdown",
      "metadata": {
        "id": "bavOBPOFmwBL"
      },
      "source": [
        "No resultado acima, vemos que a coluna **'tempo_obito'** um tipo de dado chamado **Timedelta**, que representa uma operação entre duas datas. Neste caso, estamos interessados em saber apenas o número de dias, e queremos este valor em formato numérico. Assim, utilizamos uma característica do dado do tipo Timedelta: escrevemos *.dt.days* após a coluna"
      ]
    },
    {
      "cell_type": "code",
      "metadata": {
        "id": "98_n9xSSnQuA"
      },
      "source": [
        ""
      ],
      "execution_count": 1,
      "outputs": []
    },
    {
      "cell_type": "markdown",
      "metadata": {
        "id": "9bhAtKGzsCSr"
      },
      "source": [
        "Qual o tempo máximo que alguém demorou para ir a óbito após o início dos sintomas?\n",
        "\n",
        "\n"
      ]
    },
    {
      "cell_type": "code",
      "metadata": {
        "id": "VJIy4uIwsIp9"
      },
      "source": [
        ""
      ],
      "execution_count": 1,
      "outputs": []
    },
    {
      "cell_type": "markdown",
      "metadata": {
        "id": "umU4E_DjsL7O"
      },
      "source": [
        "Qual o menor tempo que alguém demorou para ir a óbito após o início dos sintomas?\n"
      ]
    },
    {
      "cell_type": "code",
      "metadata": {
        "id": "5TM7X90RsQ6e"
      },
      "source": [
        ""
      ],
      "execution_count": 1,
      "outputs": []
    },
    {
      "cell_type": "markdown",
      "metadata": {
        "id": "QjqRJz1PUMR9"
      },
      "source": [
        "## Procv do Python - juntando duas tabelas\n",
        "Uma das funções mais utilizadas no Excel é o **PROCV**, que busca o valor em uma coluna e acrescenta na outra. No Python, é utilizada a função do pandas **merge**. Vamos utilizar esta função para verificar a incidência do COVID-19 em cada município, dividindo o número de casos pelo número de habitantes do município. [Material de referência](https://pandas.pydata.org/pandas-docs/stable/user_guide/merging.html)"
      ]
    },
    {
      "cell_type": "markdown",
      "metadata": {
        "id": "qJ624_zHV06i"
      },
      "source": [
        "Primeiro passo é gerar uma tabela dinâmica, mas utilizaremos outra função (*Pivot_table*), onde conste o nome do município e o código do IBGE dele, que usaremos como \"chave primária\" para juntas as duas tabelas. A função do Pandas *Pivot_table* nos permite trazer mais de uma coluna do DataFrame original como índice. Faremos isso, mas vamos resetar o índice para transformar em coluna, e usaremos a contagem de vezes que a coluna FAIXAETARIA foi preenchida para contar o número de casos."
      ]
    },
    {
      "cell_type": "code",
      "metadata": {
        "id": "krjjWTTXWq-e"
      },
      "source": [
        ""
      ],
      "execution_count": 1,
      "outputs": []
    },
    {
      "cell_type": "markdown",
      "metadata": {
        "id": "3asQBIEeY2Jd"
      },
      "source": [
        "Vamos importar agora um arquivo csv que contém o número de habitantes de cada município gaúcho. Dessa vez, faremos de duas maneiras diferentes:\n",
        "* Através de um link, assim como foi feito no número de casos\n",
        "* Fazendo upload do arquivo no Google Colab"
      ]
    },
    {
      "cell_type": "markdown",
      "metadata": {
        "id": "FXudce06eum5"
      },
      "source": [
        "### Link no Github"
      ]
    },
    {
      "cell_type": "code",
      "metadata": {
        "id": "Ijdd_mRmfBGO"
      },
      "source": [
        ""
      ],
      "execution_count": 1,
      "outputs": []
    },
    {
      "cell_type": "markdown",
      "metadata": {
        "id": "BJqes3g5f441"
      },
      "source": [
        "Para juntar as duas tabelas, devemos ter uma coluna em cada tabela com o mesmo nome, no caso específico, é o Código IBGE do município. Porém, em um deles o nome é COD_IBGE e no outro IBGE6. Vamos alterar o nome da coluna no DataFrame dos municípios."
      ]
    },
    {
      "cell_type": "code",
      "metadata": {
        "id": "hvQhGh1YgfvF"
      },
      "source": [
        ""
      ],
      "execution_count": 1,
      "outputs": []
    },
    {
      "cell_type": "markdown",
      "metadata": {
        "id": "dJvzTYL5guX-"
      },
      "source": [
        "Com os dois DataFrames prontos, vamos juntá-los com a função do Pandas chamada **MERGE**"
      ]
    },
    {
      "cell_type": "code",
      "metadata": {
        "id": "OE0O6Eteg6wq"
      },
      "source": [
        ""
      ],
      "execution_count": 1,
      "outputs": []
    },
    {
      "cell_type": "markdown",
      "metadata": {
        "id": "gIrP5MGVhLH8"
      },
      "source": [
        "Aplicando a operação entre as colunas, vamos agora dividir a coluna **Casos** pela coluna **População_estimada**, e multiplicando por 100.000 criando a nova coluna **Incidencia**"
      ]
    },
    {
      "cell_type": "code",
      "metadata": {
        "id": "8xg8kOpDhbxb"
      },
      "source": [
        ""
      ],
      "execution_count": 1,
      "outputs": []
    },
    {
      "cell_type": "markdown",
      "metadata": {
        "id": "7HOlzGFVvTYk"
      },
      "source": [
        "E se quisermos saber a incidência por CRS?"
      ]
    },
    {
      "cell_type": "code",
      "metadata": {
        "id": "61cn4OSVvDDY"
      },
      "source": [
        ""
      ],
      "execution_count": 1,
      "outputs": []
    },
    {
      "cell_type": "markdown",
      "metadata": {
        "id": "gk77ETn6iH6D"
      },
      "source": [
        "Agora que temos esta nova tabela, podemos ver qual o município gaúcho com maior incidência e o que tem a menor. Podemos pedir para ordenar a tabela pelos valores de incidência e ver o que nos é retornado."
      ]
    },
    {
      "cell_type": "code",
      "metadata": {
        "id": "MEDhX5oLiS-Z"
      },
      "source": [
        ""
      ],
      "execution_count": 1,
      "outputs": []
    },
    {
      "cell_type": "markdown",
      "metadata": {
        "id": "iGnTLDejipq1"
      },
      "source": [
        "Foi ordenado do menor para o maior, podemos mudar isso apenas com um parâmetro na função, se quisermos. Mas respondendo a pergunta anterior, o município com maior incidência foi Santa Cecília do Sul, com quase 33 mil casos por 100mil habitantes. A menor incidência foi do município de São Nicolau."
      ]
    },
    {
      "cell_type": "markdown",
      "metadata": {
        "id": "wHbQHCQvskFS"
      },
      "source": [
        "# Visualização de dados\n",
        "\n",
        "As principais bibliotecas utilizadas para visualização de dados atualmente são a **Matplotlib** e a **Seaborn**.\n",
        "* Matplotlib - é a biblioteca padrão do Python, que faz rodar quase todas as visualizações;\n",
        "* Seaborn - biblioteca que já faz algumas operações além de apenas plotar o gráfico, como adicionar rótulos nos eixos automaticamente, além de possuir [muitos exemplos de gráficos muito bonitos](https://seaborn.pydata.org/examples/index.html).\n",
        "\n",
        "\n"
      ]
    },
    {
      "cell_type": "markdown",
      "metadata": {
        "id": "Z0OjmG7C60En"
      },
      "source": [
        "Vamos importar as bibliotecas."
      ]
    },
    {
      "cell_type": "code",
      "metadata": {
        "id": "mxjVUBsK6a6s"
      },
      "source": [
        ""
      ],
      "execution_count": 1,
      "outputs": []
    },
    {
      "cell_type": "markdown",
      "metadata": {
        "id": "C10gs35vy9zo"
      },
      "source": [
        "## Casos por dia\n",
        "Vamos agora tentar fazer o gráfico mais visto de todos, nesta pandemia, **o número de casos por dia**. Primeiro vamos gerar uma tabela que mostre o número de casos por data de início de sintomas utilizando a função **value_counts**"
      ]
    },
    {
      "cell_type": "code",
      "metadata": {
        "id": "0Tt3LH7MybYt"
      },
      "source": [
        ""
      ],
      "execution_count": 1,
      "outputs": []
    },
    {
      "cell_type": "markdown",
      "metadata": {
        "id": "5UT-XI5dMs5x"
      },
      "source": [
        "A maneira mais simples de plotar um gráfico é utilizando apenas o comanto **.plot()**. Isso já mostra um gráfico bastante básico, mas é um gráfico. OBS:A linha plt.show() é adicionada por padrão, mas é opcional."
      ]
    },
    {
      "cell_type": "code",
      "metadata": {
        "id": "zJezB5XfMn_L"
      },
      "source": [
        ""
      ],
      "execution_count": 1,
      "outputs": []
    },
    {
      "cell_type": "markdown",
      "metadata": {
        "id": "z65p1l-YNNWR"
      },
      "source": [
        "Vamos ajeitar melhor este gráfico, colocando rótulos nos eixos X e Y, aumentando o tamanho da figura e colocando um título."
      ]
    },
    {
      "cell_type": "code",
      "metadata": {
        "id": "2Unovsd3NNH5"
      },
      "source": [
        ""
      ],
      "execution_count": 1,
      "outputs": []
    },
    {
      "cell_type": "markdown",
      "metadata": {
        "id": "2nhdrGytOhZN"
      },
      "source": [
        "É possível colocar dois gráficos no mesmo espaço. Vamos tentar botando junto o número de óbitos por dia também, criando uma nova tabela, mas desta vez com o filtro de óbitos."
      ]
    },
    {
      "cell_type": "code",
      "metadata": {
        "id": "2LEa98T4CZMx"
      },
      "source": [
        ""
      ],
      "execution_count": 1,
      "outputs": []
    },
    {
      "cell_type": "code",
      "metadata": {
        "id": "A5mfSn9PCpFd"
      },
      "source": [
        ""
      ],
      "execution_count": 1,
      "outputs": []
    },
    {
      "cell_type": "markdown",
      "metadata": {
        "id": "TQSsJiGSbT7E"
      },
      "source": [
        "# Aula 3 foi até aqui"
      ]
    },
    {
      "cell_type": "markdown",
      "metadata": {
        "id": "SBOC6rZVD0OU"
      },
      "source": [
        "E se quisermos incluir um gráfico com os óbitos diários?"
      ]
    },
    {
      "cell_type": "code",
      "metadata": {
        "id": "g7tb4z_bOsZF"
      },
      "source": [
        ""
      ],
      "execution_count": 1,
      "outputs": []
    },
    {
      "cell_type": "code",
      "metadata": {
        "id": "JoF4vESIO5ne"
      },
      "source": [
        ""
      ],
      "execution_count": 1,
      "outputs": []
    },
    {
      "cell_type": "markdown",
      "metadata": {
        "id": "m_ePbK4VQUOz"
      },
      "source": [
        "O gráfico não ficou muito legível, devido à grande diferença de escala. Vamos colocar o número de óbitos por dia no eixo da direita e ver como fica. Para isso, alguns comandos são mudados, mas nada muito complicado. "
      ]
    },
    {
      "cell_type": "code",
      "metadata": {
        "id": "X2amsGaaPfFC"
      },
      "source": [
        ""
      ],
      "execution_count": 1,
      "outputs": []
    },
    {
      "cell_type": "markdown",
      "metadata": {
        "id": "XEjps_2VlJko"
      },
      "source": [
        "## Mortalidade por faixa etária\n",
        "Podemos usar um gráfico de barras para visualizar essa diferença de mortalidade nas diferentes faixas etárias. Utilizaremos o DataFrame que já tínhamos criado, na tabela dinâmica, resetando o index para utilizarmos como coluna, multiplicando tudo por 100 antes, para termos os números em *porcentagem*."
      ]
    },
    {
      "cell_type": "code",
      "metadata": {
        "id": "4SCo447UJfNb"
      },
      "source": [
        ""
      ],
      "execution_count": 1,
      "outputs": []
    },
    {
      "cell_type": "code",
      "metadata": {
        "id": "j5VvmSpcloWo"
      },
      "source": [
        "\n",
        "\n"
      ],
      "execution_count": 1,
      "outputs": []
    },
    {
      "cell_type": "code",
      "metadata": {
        "id": "YUdMI-X-mHUB"
      },
      "source": [
        ""
      ],
      "execution_count": 1,
      "outputs": []
    },
    {
      "cell_type": "markdown",
      "metadata": {
        "id": "7mxK-JkNu0MH"
      },
      "source": [
        "## Distribuição tempo óbito\n",
        "Para verificar uma distribuição de dados, uma das maneiras é utilizar um histograma. No Seaborn, é a função **displot**. A documentação pode ser acessada [aqui](https://seaborn.pydata.org/generated/seaborn.displot.html?highlight=displot#seaborn.displot). O gráfico mais básico que podemos fazer é este, mas vamos elaborar ele ainda mais. A linha plt.show() é adicionada por padrão, mas é opcional."
      ]
    },
    {
      "cell_type": "code",
      "metadata": {
        "id": "RUOqY2lzlt91"
      },
      "source": [
        ""
      ],
      "execution_count": 1,
      "outputs": []
    },
    {
      "cell_type": "code",
      "metadata": {
        "id": "R6wrmarZpwQT"
      },
      "source": [
        ""
      ],
      "execution_count": 1,
      "outputs": []
    },
    {
      "cell_type": "markdown",
      "metadata": {
        "id": "ImquQlpEwDRZ"
      },
      "source": [
        "Vamos colocar um título no gráfico, para que ele não fique sem esta informação. Também vamos limitar o eixo X até 100, para conseguirmos visualizar melhor os dados."
      ]
    },
    {
      "cell_type": "code",
      "metadata": {
        "id": "H63PliOXmbhp"
      },
      "source": [
        ""
      ],
      "execution_count": 1,
      "outputs": []
    },
    {
      "cell_type": "markdown",
      "metadata": {
        "id": "odjZgQI6wRCq"
      },
      "source": [
        "E se quisermos verificar dentro do mesmo gráfico, diferentes distribuições para sexo masculino e feminino? O Seaborn possui um parâmetro que é o **hue**, que faz exatamente isso que queremos."
      ]
    },
    {
      "cell_type": "code",
      "metadata": {
        "id": "zZ9lpFMqwO2L"
      },
      "source": [
        ""
      ],
      "execution_count": 1,
      "outputs": []
    },
    {
      "cell_type": "markdown",
      "metadata": {
        "id": "oUKntoQtyUtq"
      },
      "source": [
        "E se quisermos fazer um gráfico para cada faixa etária?"
      ]
    },
    {
      "cell_type": "code",
      "metadata": {
        "id": "ehInyibPxxDg"
      },
      "source": [
        ""
      ],
      "execution_count": 1,
      "outputs": []
    },
    {
      "cell_type": "code",
      "metadata": {
        "id": "Kzxg8tEC4Fhd"
      },
      "source": [
        ""
      ],
      "execution_count": 1,
      "outputs": []
    },
    {
      "cell_type": "code",
      "metadata": {
        "id": "hWphRmkyIQDH"
      },
      "source": [
        ""
      ],
      "execution_count": 1,
      "outputs": []
    },
    {
      "cell_type": "markdown",
      "metadata": {
        "id": "27W7RLccxuHF"
      },
      "source": [
        "É possível realizar a alteração das cores, para que fique da maneira que quisermos. Para isso, colocamos o parâmetro **palette**, indicando daí uma paleta de cores a ser utilzada. As paletas de cores disponíveis são as disponíveis no link: https://seaborn.pydata.org/tutorial/color_palettes.html"
      ]
    },
    {
      "cell_type": "code",
      "metadata": {
        "id": "9i3nFWmRxuf-"
      },
      "source": [
        ""
      ],
      "execution_count": 1,
      "outputs": []
    },
    {
      "cell_type": "markdown",
      "metadata": {
        "id": "IXUMeEg-XNu0"
      },
      "source": [
        "## Mapas de escala de cores\n",
        "\n",
        "Vamos agora elaborar mapas de calor utilizando a biblioteca folium, \n",
        "[referência utilizada.](https://medium.com/data-hackers/criando-mapas-interativos-e-choropleth-maps-com-folium-em-python-abffae63bbd6)"
      ]
    },
    {
      "cell_type": "markdown",
      "metadata": {
        "id": "yqokD8fwX4qu"
      },
      "source": [
        "###Instalando a Biblioteca (Folium)\n",
        "Como a biblioteca que queremos utilzar não está previamente instalada no Google Colab, temos que instalá-la."
      ]
    },
    {
      "cell_type": "markdown",
      "metadata": {
        "id": "bemz_MNfYSzl"
      },
      "source": [
        "###Importando as Bibliotecas"
      ]
    },
    {
      "cell_type": "code",
      "metadata": {
        "id": "AUbhkqMGXwFC"
      },
      "source": [
        ""
      ],
      "execution_count": 1,
      "outputs": []
    },
    {
      "cell_type": "markdown",
      "metadata": {
        "id": "oSSMinV-HDdN"
      },
      "source": [
        "### Adquirindo mapa base\n",
        "Inicialmente, temos que gerar um mapa base para colocar as informações que estamos analisando. Existem mapas base disponíveis na internet, não sendo necessário criar do zero. Neste curso, utilizaremos um mapa do RS disponível no [Github do Geodata-br](https://github.com/tbrugz/geodata-br), que se encontra como arquivo **.json**."
      ]
    },
    {
      "cell_type": "code",
      "metadata": {
        "id": "-wKJQ2lUYLwo"
      },
      "source": [
        ""
      ],
      "execution_count": 1,
      "outputs": []
    },
    {
      "cell_type": "markdown",
      "metadata": {
        "id": "A7G41j6Mz9pE"
      },
      "source": [
        "Um arquivo **.json** se comporta como um dicionário do Python. Ou seja, são vários dados organizados de uma maneira diferente para serem acessados([Referência](http://devfuria.com.br/python/dicionarios-dictionaries/)). Abaixo, acessamos um dos itens do json rs_municipios para visualizar como estão os dados. "
      ]
    },
    {
      "cell_type": "code",
      "metadata": {
        "id": "Vo834Jg20HuR"
      },
      "source": [
        ""
      ],
      "execution_count": 1,
      "outputs": []
    },
    {
      "cell_type": "markdown",
      "metadata": {
        "id": "bZWEJnvA3al3"
      },
      "source": [
        "Percebe-se que há uma estrutura com as coordenadas geográficas, e propriedades de identificação:\n",
        "* description: Aceguá\n",
        "* id: 4300034\n",
        "* name: Aceguá"
      ]
    },
    {
      "cell_type": "markdown",
      "metadata": {
        "id": "1cQiypbr4G_W"
      },
      "source": [
        "Dentre estes, devemos ter um campo que é o mesmo, tanto no arquivo json, quanto na tabela a qual queremos utilizar. Sempre a melhor escolha é juntar os códigos do IBGE. No entanto, no json temos o código com 7 algarismos, e na tabela, com 6 algarismos. Vamos acessar os dados do dicionário para verificar como chegar até o que queremos."
      ]
    },
    {
      "cell_type": "code",
      "metadata": {
        "id": "tbj6DsfZ8RM6"
      },
      "source": [
        ""
      ],
      "execution_count": 1,
      "outputs": []
    },
    {
      "cell_type": "code",
      "metadata": {
        "id": "MKVD2XEW8Y93"
      },
      "source": [
        ""
      ],
      "execution_count": 1,
      "outputs": []
    },
    {
      "cell_type": "code",
      "metadata": {
        "id": "xTr6in1D8a_J"
      },
      "source": [
        ""
      ],
      "execution_count": 1,
      "outputs": []
    },
    {
      "cell_type": "code",
      "metadata": {
        "id": "vSu2xpts8dtR"
      },
      "source": [
        ""
      ],
      "execution_count": 1,
      "outputs": []
    },
    {
      "cell_type": "code",
      "metadata": {
        "id": "3U_NN51esOBm"
      },
      "source": [
        ""
      ],
      "execution_count": 1,
      "outputs": []
    },
    {
      "cell_type": "markdown",
      "metadata": {
        "id": "CeM1emEQ8_Ld"
      },
      "source": [
        "Iremos criar um **FOR** para cortar o último algarismo."
      ]
    },
    {
      "cell_type": "code",
      "metadata": {
        "id": "QglUv2TLIJ2U"
      },
      "source": [
        ""
      ],
      "execution_count": 1,
      "outputs": []
    },
    {
      "cell_type": "code",
      "metadata": {
        "id": "J0c3QQyctALw"
      },
      "source": [
        ""
      ],
      "execution_count": 1,
      "outputs": []
    },
    {
      "cell_type": "markdown",
      "metadata": {
        "id": "wBvlOpHK9Uta"
      },
      "source": [
        "Para fazermos o link entre o mapa e a tabela, os dados devem ser do mesmo tipo (número e número, ou string e string). Para isso, vamos transformar o código do IBGE na tabela para **string**."
      ]
    },
    {
      "cell_type": "code",
      "metadata": {
        "id": "KXCL0GwEJirp"
      },
      "source": [
        ""
      ],
      "execution_count": 1,
      "outputs": []
    },
    {
      "cell_type": "code",
      "metadata": {
        "id": "IgFqSwP8vkoR"
      },
      "source": [
        ""
      ],
      "execution_count": 1,
      "outputs": []
    },
    {
      "cell_type": "markdown",
      "metadata": {
        "id": "ZfscZuzi909r"
      },
      "source": [
        "Agora, vamos gerar o mapa em branco."
      ]
    },
    {
      "cell_type": "code",
      "metadata": {
        "id": "bkLBtD4L97pj"
      },
      "source": [
        ""
      ],
      "execution_count": 1,
      "outputs": []
    },
    {
      "cell_type": "markdown",
      "metadata": {
        "id": "_sPKjRTw-0Cl"
      },
      "source": [
        "E se quisermos fazer com outros dados da tabela?"
      ]
    },
    {
      "cell_type": "code",
      "metadata": {
        "id": "kkIrbLemYctF"
      },
      "source": [
        ""
      ],
      "execution_count": 1,
      "outputs": []
    },
    {
      "cell_type": "code",
      "metadata": {
        "id": "0LTC_EZt6Ahw"
      },
      "source": [
        ""
      ],
      "execution_count": 1,
      "outputs": []
    },
    {
      "cell_type": "code",
      "metadata": {
        "id": "ZZpr8IBV4dma"
      },
      "source": [
        ""
      ],
      "execution_count": 1,
      "outputs": []
    },
    {
      "cell_type": "code",
      "metadata": {
        "id": "URDhiBTO4kbF"
      },
      "source": [
        ""
      ],
      "execution_count": 1,
      "outputs": []
    },
    {
      "cell_type": "code",
      "metadata": {
        "id": "2c7ctW7n2l5g"
      },
      "source": [
        ""
      ],
      "execution_count": 1,
      "outputs": []
    },
    {
      "cell_type": "markdown",
      "metadata": {
        "id": "z70XS9KAnrq3"
      },
      "source": [
        "# Análise aprofundada\n",
        "Para este módulo, vamos analisar as comorbidades dos óbitos por COVID19, com o mesmo banco de dados, e verificar quais são as mais frequentes. O primeiro passo é visualizar a coluna que mostra este dado e como ela está.\n",
        "[Referência](https://journals.plos.org/plosone/article?id=10.1371/journal.pone.0243966)"
      ]
    },
    {
      "cell_type": "code",
      "metadata": {
        "id": "K-McR87OZX5d"
      },
      "source": [
        ""
      ],
      "execution_count": 1,
      "outputs": []
    },
    {
      "cell_type": "markdown",
      "metadata": {
        "id": "aX59FvUlZWlz"
      },
      "source": [
        "Vemos que, dentro de uma mesma \"célula\", são preenchidos valores ou como NaN (*Not a number*), ou seja, *vazio*, mas também aqueles que estão preenchidos possuem cada comorbidade separada por uma vírgula. Essa forma de mostrar dados é muito parecida com o formato que o Google Forms deixa o dado quando a resposta é múltipla. Vamos tentar fazer o **value_counts()** e ver como é retornado."
      ]
    },
    {
      "cell_type": "code",
      "metadata": {
        "id": "Aw6JpSWbbKAo"
      },
      "source": [
        ""
      ],
      "execution_count": 1,
      "outputs": []
    },
    {
      "cell_type": "markdown",
      "metadata": {
        "id": "WHN5XHE7bMm1"
      },
      "source": [
        "Fica impossível de analisar, pois ele trata cada linha combinação como valor único. Felizmente, em Python, existe uma solução para este problema! A função **GET_DUMMIES()** separa cada uma delas, e cria uma coluna para cada valor., sendo:\n",
        "* 0 - não contém\n",
        "* 1 - contém\n",
        "\n",
        "Como o banco de dados completo possui mais de 1 milhão de linhas, este comando demora um pouco neste caso."
      ]
    },
    {
      "cell_type": "code",
      "metadata": {
        "id": "7KAIFEAXzpPC"
      },
      "source": [
        ""
      ],
      "execution_count": 1,
      "outputs": []
    },
    {
      "cell_type": "markdown",
      "metadata": {
        "id": "WwqZV-qUdFL6"
      },
      "source": [
        "Foi gerada uma tabela com cada uma das diferentes comorbidades. Entretanto, alguns erros aconteceram, pois pedimos para separar cada uma por vírgula, e alguns campos, como **Doenças renais crônicas em estágio avançado (graus 3,4 e 5)** foram separados em mais de uma coluna. Assim como gerou mais de um campo para a mesma comorbidade, devido ao espaço entre a vírgula e os demais itens, e também por faltar a última letra em alguns finais frase (Diabetes melitu, Doença Hematológica Crônic, etc). "
      ]
    },
    {
      "cell_type": "markdown",
      "metadata": {
        "id": "e3AEfvKAf81o"
      },
      "source": [
        "Todos estes problemas fazem parte de situações reais de análise, onde a limpeza do banco de dados é uma parte muito importante do trabalho. Bancos de dados limpos e bonitinhos, prontos para análise são encontrados apenas em exercícios de aula."
      ]
    },
    {
      "cell_type": "markdown",
      "metadata": {
        "id": "xjaUfl2ehX7l"
      },
      "source": [
        "## Limpeza dos dados\n",
        "Vamos substituir os valores que estão escritos de maneira errada, além de eliminar o espaço após as vírgulas. Neste caso, iremos trocar as palavras completas pelas curtas, e depois retornar as curtas para a completa."
      ]
    },
    {
      "cell_type": "code",
      "metadata": {
        "id": "Vm0G4JKzdE7y"
      },
      "source": [
        ""
      ],
      "execution_count": 1,
      "outputs": []
    },
    {
      "cell_type": "markdown",
      "metadata": {
        "id": "1XSRZjXhkyId"
      },
      "source": [
        "Para melhorar o entendimento a seguir, vamos criar um pequeno **FOR** que vai substituir todos os 1 pelo nome da comorbidade, e os 0 por um *NAO*."
      ]
    },
    {
      "cell_type": "code",
      "metadata": {
        "id": "sFM13QU_gFDQ"
      },
      "source": [
        ""
      ],
      "execution_count": 1,
      "outputs": []
    },
    {
      "cell_type": "markdown",
      "metadata": {
        "id": "9Vau15nzHyH_"
      },
      "source": [
        "Vamos inserir uma coluna para as pessoas que não tinham comorbidades também. Assim, iremos substituir todos os *NaN* por 0, e utilizar uma operação chamada **List comprehension** ([Referência](https://pythonacademy.com.br/blog/list-comprehensions-no-python)), que é uma maneira mais enxuta de criar uma lista em Python. "
      ]
    },
    {
      "cell_type": "code",
      "metadata": {
        "id": "YFkB_TKTr-TE"
      },
      "source": [
        ""
      ],
      "execution_count": 1,
      "outputs": []
    },
    {
      "cell_type": "markdown",
      "metadata": {
        "id": "TmP8QvmnI6cl"
      },
      "source": [
        "Sem usar List cromprehension"
      ]
    },
    {
      "cell_type": "code",
      "metadata": {
        "id": "kn5g9turI6B_"
      },
      "source": [
        ""
      ],
      "execution_count": 1,
      "outputs": []
    },
    {
      "cell_type": "markdown",
      "metadata": {
        "id": "wSGD2315L9cU"
      },
      "source": [
        "Agora, juntaremos os dois DataFrames com a função **CONCAT()**, com o parâmetro *axis = 1* para que sejam colados um ao lado do outro."
      ]
    },
    {
      "cell_type": "code",
      "metadata": {
        "id": "qP8csJtTLipk"
      },
      "source": [
        ""
      ],
      "execution_count": 1,
      "outputs": []
    },
    {
      "cell_type": "markdown",
      "metadata": {
        "id": "I7Qea7tbpB8F"
      },
      "source": [
        "# Exercício - Vacinação em Porto Alegre\n",
        "Agora que o curso está na parte final, fica como exercício utilizar o banco de dados da vacinação em Porto Alegre"
      ]
    },
    {
      "cell_type": "code",
      "metadata": {
        "id": "6iaJi6n4ZArh"
      },
      "source": [
        ""
      ],
      "execution_count": 1,
      "outputs": []
    },
    {
      "cell_type": "markdown",
      "metadata": {
        "id": "LMm06woXuzQB"
      },
      "source": [
        "## Exercício 1\n",
        "Quantas pessoas foram vacinadas com a primeira dose?"
      ]
    },
    {
      "cell_type": "code",
      "metadata": {
        "id": "HTzek-pbeGRq"
      },
      "source": [
        ""
      ],
      "execution_count": 1,
      "outputs": []
    },
    {
      "cell_type": "code",
      "metadata": {
        "id": "5J0FqpuGyrE8"
      },
      "source": [
        ""
      ],
      "execution_count": 1,
      "outputs": []
    },
    {
      "cell_type": "markdown",
      "metadata": {
        "id": "T4VLNSkuvakd"
      },
      "source": [
        "Classifique a marca das vacinas aplicadas em ordem descentente."
      ]
    },
    {
      "cell_type": "code",
      "metadata": {
        "id": "2oMzxh7YvrmK"
      },
      "source": [
        ""
      ],
      "execution_count": 1,
      "outputs": []
    }
  ]
}